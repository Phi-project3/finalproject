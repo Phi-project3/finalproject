{
 "cells": [
  {
   "cell_type": "code",
   "execution_count": 38,
   "metadata": {},
   "outputs": [],
   "source": [
    "import pandas as pd"
   ]
  },
  {
   "cell_type": "code",
   "execution_count": 39,
   "metadata": {},
   "outputs": [],
   "source": [
    "df = pd.read_csv(\"en openfoodfacts org products.csv\")"
   ]
  },
  {
   "cell_type": "code",
   "execution_count": 40,
   "metadata": {},
   "outputs": [],
   "source": [
    "df.drop(df[df['pnns_groups_1'] == \"unknown\"].index, inplace=True)"
   ]
  },
  {
   "cell_type": "code",
   "execution_count": 41,
   "metadata": {},
   "outputs": [
    {
     "name": "stdout",
     "output_type": "stream",
     "text": [
      "<class 'pandas.core.frame.DataFrame'>\n",
      "Index: 4735 entries, 6971 to 13218\n",
      "Data columns (total 18 columns):\n",
      " #   Column                                   Non-Null Count  Dtype  \n",
      "---  ------                                   --------------  -----  \n",
      " 0   code                                     4735 non-null   int64  \n",
      " 1   product_name                             4475 non-null   object \n",
      " 2   quantity                                 3582 non-null   object \n",
      " 3   packaging_en                             1798 non-null   object \n",
      " 4   brands_en                                4488 non-null   object \n",
      " 5   categories_en                            4653 non-null   object \n",
      " 6   origins_en                               888 non-null    object \n",
      " 7   labels_en                                2494 non-null   object \n",
      " 8   countries_en                             4735 non-null   object \n",
      " 9   nutriscore_grade                         4650 non-null   object \n",
      " 10  pnns_groups_1                            4650 non-null   object \n",
      " 11  pnns_groups_2                            4650 non-null   object \n",
      " 12  food_groups_en                           4650 non-null   object \n",
      " 13  environmental_score_score                937 non-null    float64\n",
      " 14  environmental_score_grade                1389 non-null   object \n",
      " 15  main_category_en                         4653 non-null   object \n",
      " 16  carbon-footprint_100g                    2 non-null      float64\n",
      " 17  carbon-footprint-from-meat-or-fish_100g  5 non-null      float64\n",
      "dtypes: float64(3), int64(1), object(14)\n",
      "memory usage: 702.9+ KB\n"
     ]
    }
   ],
   "source": [
    "df.info()"
   ]
  }
 ],
 "metadata": {
  "language_info": {
   "name": "python"
  }
 },
 "nbformat": 4,
 "nbformat_minor": 2
}
